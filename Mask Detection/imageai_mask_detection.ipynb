{
  "nbformat": 4,
  "nbformat_minor": 0,
  "metadata": {
    "colab": {
      "name": "imageai_mask_detection.ipynb",
      "provenance": []
    },
    "kernelspec": {
      "name": "python3",
      "display_name": "Python 3"
    },
    "accelerator": "GPU"
  },
  "cells": [
    {
      "cell_type": "markdown",
      "metadata": {
        "id": "MsLMn8vx_dyo",
        "colab_type": "text"
      },
      "source": [
        "This notebook is used to train the mask detection system using transfer learning on YOLOV3 model. Before using this notebook you have to push your data to you google drive on which you have to train your model. "
      ]
    },
    {
      "cell_type": "code",
      "metadata": {
        "id": "lX6UtSOtA1ZT",
        "colab_type": "code",
        "colab": {
          "base_uri": "https://localhost:8080/",
          "height": 126
        },
        "outputId": "38e98338-1ba7-4d1f-99a3-1068a1655272"
      },
      "source": [
        "# mounting goolge drive\n",
        "from google.colab import drive\n",
        "drive.mount('/content/drive')"
      ],
      "execution_count": null,
      "outputs": [
        {
          "output_type": "stream",
          "text": [
            "Go to this URL in a browser: https://accounts.google.com/o/oauth2/auth?client_id=947318989803-6bn6qk8qdgf4n4g3pfee6491hc0brc4i.apps.googleusercontent.com&redirect_uri=urn%3aietf%3awg%3aoauth%3a2.0%3aoob&response_type=code&scope=email%20https%3a%2f%2fwww.googleapis.com%2fauth%2fdocs.test%20https%3a%2f%2fwww.googleapis.com%2fauth%2fdrive%20https%3a%2f%2fwww.googleapis.com%2fauth%2fdrive.photos.readonly%20https%3a%2f%2fwww.googleapis.com%2fauth%2fpeopleapi.readonly\n",
            "\n",
            "Enter your authorization code:\n",
            "··········\n",
            "Mounted at /content/drive\n"
          ],
          "name": "stdout"
        }
      ]
    },
    {
      "cell_type": "markdown",
      "metadata": {
        "id": "gWf_-ZmLAJX4",
        "colab_type": "text"
      },
      "source": [
        "cd to your path where you have stored the data.\n"
      ]
    },
    {
      "cell_type": "code",
      "metadata": {
        "id": "Uwn8F6wlInR8",
        "colab_type": "code",
        "colab": {
          "base_uri": "https://localhost:8080/",
          "height": 284
        },
        "outputId": "ac4151be-e9d3-40af-807c-e4549359f2dc"
      },
      "source": [
        "# install imageAI library\n",
        "!pip install imageai"
      ],
      "execution_count": null,
      "outputs": [
        {
          "output_type": "stream",
          "text": [
            "Collecting imageai\n",
            "\u001b[?25l  Downloading https://files.pythonhosted.org/packages/09/99/4023e191a343fb23f01ae02ac57a5ca58037c310e8d8c62f87638a3bafc7/imageai-2.1.5-py3-none-any.whl (180kB)\n",
            "\r\u001b[K     |█▉                              | 10kB 16.9MB/s eta 0:00:01\r\u001b[K     |███▋                            | 20kB 1.8MB/s eta 0:00:01\r\u001b[K     |█████▍                          | 30kB 2.3MB/s eta 0:00:01\r\u001b[K     |███████▎                        | 40kB 2.5MB/s eta 0:00:01\r\u001b[K     |█████████                       | 51kB 2.0MB/s eta 0:00:01\r\u001b[K     |██████████▉                     | 61kB 2.3MB/s eta 0:00:01\r\u001b[K     |████████████▊                   | 71kB 2.5MB/s eta 0:00:01\r\u001b[K     |██████████████▌                 | 81kB 2.8MB/s eta 0:00:01\r\u001b[K     |████████████████▎               | 92kB 2.9MB/s eta 0:00:01\r\u001b[K     |██████████████████▏             | 102kB 2.8MB/s eta 0:00:01\r\u001b[K     |████████████████████            | 112kB 2.8MB/s eta 0:00:01\r\u001b[K     |█████████████████████▊          | 122kB 2.8MB/s eta 0:00:01\r\u001b[K     |███████████████████████▋        | 133kB 2.8MB/s eta 0:00:01\r\u001b[K     |█████████████████████████▍      | 143kB 2.8MB/s eta 0:00:01\r\u001b[K     |███████████████████████████▏    | 153kB 2.8MB/s eta 0:00:01\r\u001b[K     |█████████████████████████████   | 163kB 2.8MB/s eta 0:00:01\r\u001b[K     |██████████████████████████████▉ | 174kB 2.8MB/s eta 0:00:01\r\u001b[K     |████████████████████████████████| 184kB 2.8MB/s \n",
            "\u001b[?25hRequirement already satisfied: numpy in /usr/local/lib/python3.6/dist-packages (from imageai) (1.18.4)\n",
            "Requirement already satisfied: pillow in /usr/local/lib/python3.6/dist-packages (from imageai) (7.0.0)\n",
            "Requirement already satisfied: scipy in /usr/local/lib/python3.6/dist-packages (from imageai) (1.4.1)\n",
            "Requirement already satisfied: matplotlib in /usr/local/lib/python3.6/dist-packages (from imageai) (3.2.1)\n",
            "Requirement already satisfied: h5py in /usr/local/lib/python3.6/dist-packages (from imageai) (2.10.0)\n",
            "Requirement already satisfied: cycler>=0.10 in /usr/local/lib/python3.6/dist-packages (from matplotlib->imageai) (0.10.0)\n",
            "Requirement already satisfied: pyparsing!=2.0.4,!=2.1.2,!=2.1.6,>=2.0.1 in /usr/local/lib/python3.6/dist-packages (from matplotlib->imageai) (2.4.7)\n",
            "Requirement already satisfied: python-dateutil>=2.1 in /usr/local/lib/python3.6/dist-packages (from matplotlib->imageai) (2.8.1)\n",
            "Requirement already satisfied: kiwisolver>=1.0.1 in /usr/local/lib/python3.6/dist-packages (from matplotlib->imageai) (1.2.0)\n",
            "Requirement already satisfied: six in /usr/local/lib/python3.6/dist-packages (from h5py->imageai) (1.12.0)\n",
            "Installing collected packages: imageai\n",
            "Successfully installed imageai-2.1.5\n"
          ],
          "name": "stdout"
        }
      ]
    },
    {
      "cell_type": "code",
      "metadata": {
        "id": "KPAlFFi2IrvB",
        "colab_type": "code",
        "colab": {
          "base_uri": "https://localhost:8080/",
          "height": 248
        },
        "outputId": "d3fe2b85-b229-4db2-921f-c15c5897a729"
      },
      "source": [
        "#uninstall the latest version of tensorflow i.e. 2.2.0\n",
        "!pip uninstall tensorflow"
      ],
      "execution_count": null,
      "outputs": [
        {
          "output_type": "stream",
          "text": [
            "Uninstalling tensorflow-2.2.0rc4:\n",
            "  Would remove:\n",
            "    /usr/local/bin/estimator_ckpt_converter\n",
            "    /usr/local/bin/saved_model_cli\n",
            "    /usr/local/bin/tensorboard\n",
            "    /usr/local/bin/tf_upgrade_v2\n",
            "    /usr/local/bin/tflite_convert\n",
            "    /usr/local/bin/toco\n",
            "    /usr/local/bin/toco_from_protos\n",
            "    /usr/local/lib/python3.6/dist-packages/tensorflow-2.2.0rc4.dist-info/*\n",
            "    /usr/local/lib/python3.6/dist-packages/tensorflow/*\n",
            "Proceed (y/n)? y\n",
            "  Successfully uninstalled tensorflow-2.2.0rc4\n"
          ],
          "name": "stdout"
        }
      ]
    },
    {
      "cell_type": "code",
      "metadata": {
        "id": "wApPlguLJT49",
        "colab_type": "code",
        "colab": {
          "base_uri": "https://localhost:8080/",
          "height": 621
        },
        "outputId": "8b892d05-483e-450a-bcd6-1ae189cac44e"
      },
      "source": [
        "# install the tensorflow-gpu version 1.13.1\n",
        "!pip3 install tensorflow-gpu==1.13.1"
      ],
      "execution_count": null,
      "outputs": [
        {
          "output_type": "stream",
          "text": [
            "Collecting tensorflow-gpu==1.13.1\n",
            "\u001b[?25l  Downloading https://files.pythonhosted.org/packages/7b/b1/0ad4ae02e17ddd62109cd54c291e311c4b5fd09b4d0678d3d6ce4159b0f0/tensorflow_gpu-1.13.1-cp36-cp36m-manylinux1_x86_64.whl (345.2MB)\n",
            "\u001b[K     |████████████████████████████████| 345.2MB 22kB/s \n",
            "\u001b[?25hRequirement already satisfied: termcolor>=1.1.0 in /usr/local/lib/python3.6/dist-packages (from tensorflow-gpu==1.13.1) (1.1.0)\n",
            "Requirement already satisfied: keras-applications>=1.0.6 in /usr/local/lib/python3.6/dist-packages (from tensorflow-gpu==1.13.1) (1.0.8)\n",
            "Requirement already satisfied: numpy>=1.13.3 in /usr/local/lib/python3.6/dist-packages (from tensorflow-gpu==1.13.1) (1.18.4)\n",
            "Requirement already satisfied: six>=1.10.0 in /usr/local/lib/python3.6/dist-packages (from tensorflow-gpu==1.13.1) (1.12.0)\n",
            "Requirement already satisfied: protobuf>=3.6.1 in /usr/local/lib/python3.6/dist-packages (from tensorflow-gpu==1.13.1) (3.10.0)\n",
            "Requirement already satisfied: absl-py>=0.1.6 in /usr/local/lib/python3.6/dist-packages (from tensorflow-gpu==1.13.1) (0.9.0)\n",
            "Collecting tensorflow-estimator<1.14.0rc0,>=1.13.0\n",
            "\u001b[?25l  Downloading https://files.pythonhosted.org/packages/bb/48/13f49fc3fa0fdf916aa1419013bb8f2ad09674c275b4046d5ee669a46873/tensorflow_estimator-1.13.0-py2.py3-none-any.whl (367kB)\n",
            "\u001b[K     |████████████████████████████████| 368kB 32.3MB/s \n",
            "\u001b[?25hRequirement already satisfied: astor>=0.6.0 in /usr/local/lib/python3.6/dist-packages (from tensorflow-gpu==1.13.1) (0.8.1)\n",
            "Requirement already satisfied: gast>=0.2.0 in /usr/local/lib/python3.6/dist-packages (from tensorflow-gpu==1.13.1) (0.3.3)\n",
            "Requirement already satisfied: wheel>=0.26 in /usr/local/lib/python3.6/dist-packages (from tensorflow-gpu==1.13.1) (0.34.2)\n",
            "Requirement already satisfied: grpcio>=1.8.6 in /usr/local/lib/python3.6/dist-packages (from tensorflow-gpu==1.13.1) (1.28.1)\n",
            "Collecting tensorboard<1.14.0,>=1.13.0\n",
            "\u001b[?25l  Downloading https://files.pythonhosted.org/packages/0f/39/bdd75b08a6fba41f098b6cb091b9e8c7a80e1b4d679a581a0ccd17b10373/tensorboard-1.13.1-py3-none-any.whl (3.2MB)\n",
            "\u001b[K     |████████████████████████████████| 3.2MB 28.0MB/s \n",
            "\u001b[?25hRequirement already satisfied: keras-preprocessing>=1.0.5 in /usr/local/lib/python3.6/dist-packages (from tensorflow-gpu==1.13.1) (1.1.0)\n",
            "Requirement already satisfied: h5py in /usr/local/lib/python3.6/dist-packages (from keras-applications>=1.0.6->tensorflow-gpu==1.13.1) (2.10.0)\n",
            "Requirement already satisfied: setuptools in /usr/local/lib/python3.6/dist-packages (from protobuf>=3.6.1->tensorflow-gpu==1.13.1) (46.1.3)\n",
            "Collecting mock>=2.0.0\n",
            "  Downloading https://files.pythonhosted.org/packages/cd/74/d72daf8dff5b6566db857cfd088907bb0355f5dd2914c4b3ef065c790735/mock-4.0.2-py3-none-any.whl\n",
            "Requirement already satisfied: markdown>=2.6.8 in /usr/local/lib/python3.6/dist-packages (from tensorboard<1.14.0,>=1.13.0->tensorflow-gpu==1.13.1) (3.2.1)\n",
            "Requirement already satisfied: werkzeug>=0.11.15 in /usr/local/lib/python3.6/dist-packages (from tensorboard<1.14.0,>=1.13.0->tensorflow-gpu==1.13.1) (1.0.1)\n",
            "Installing collected packages: mock, tensorflow-estimator, tensorboard, tensorflow-gpu\n",
            "  Found existing installation: tensorflow-estimator 2.2.0\n",
            "    Uninstalling tensorflow-estimator-2.2.0:\n",
            "      Successfully uninstalled tensorflow-estimator-2.2.0\n",
            "  Found existing installation: tensorboard 2.2.1\n",
            "    Uninstalling tensorboard-2.2.1:\n",
            "      Successfully uninstalled tensorboard-2.2.1\n",
            "Successfully installed mock-4.0.2 tensorboard-1.13.1 tensorflow-estimator-1.13.0 tensorflow-gpu-1.13.1\n"
          ],
          "name": "stdout"
        }
      ]
    },
    {
      "cell_type": "code",
      "metadata": {
        "id": "sz7j4fcMJfna",
        "colab_type": "code",
        "colab": {
          "base_uri": "https://localhost:8080/",
          "height": 268
        },
        "outputId": "ec3ebe52-1bff-42b3-ce1f-3c9a3b5a57e5"
      },
      "source": [
        "#import the ImageAI dependencies which are required for model training on your custom dataset\n",
        "from imageai.Detection.Custom import DetectionModelTrainer"
      ],
      "execution_count": null,
      "outputs": [
        {
          "output_type": "stream",
          "text": [
            "Using TensorFlow backend.\n",
            "/usr/local/lib/python3.6/dist-packages/tensorflow/python/framework/dtypes.py:526: FutureWarning: Passing (type, 1) or '1type' as a synonym of type is deprecated; in a future version of numpy, it will be understood as (type, (1,)) / '(1,)type'.\n",
            "  _np_qint8 = np.dtype([(\"qint8\", np.int8, 1)])\n",
            "/usr/local/lib/python3.6/dist-packages/tensorflow/python/framework/dtypes.py:527: FutureWarning: Passing (type, 1) or '1type' as a synonym of type is deprecated; in a future version of numpy, it will be understood as (type, (1,)) / '(1,)type'.\n",
            "  _np_quint8 = np.dtype([(\"quint8\", np.uint8, 1)])\n",
            "/usr/local/lib/python3.6/dist-packages/tensorflow/python/framework/dtypes.py:528: FutureWarning: Passing (type, 1) or '1type' as a synonym of type is deprecated; in a future version of numpy, it will be understood as (type, (1,)) / '(1,)type'.\n",
            "  _np_qint16 = np.dtype([(\"qint16\", np.int16, 1)])\n",
            "/usr/local/lib/python3.6/dist-packages/tensorflow/python/framework/dtypes.py:529: FutureWarning: Passing (type, 1) or '1type' as a synonym of type is deprecated; in a future version of numpy, it will be understood as (type, (1,)) / '(1,)type'.\n",
            "  _np_quint16 = np.dtype([(\"quint16\", np.uint16, 1)])\n",
            "/usr/local/lib/python3.6/dist-packages/tensorflow/python/framework/dtypes.py:530: FutureWarning: Passing (type, 1) or '1type' as a synonym of type is deprecated; in a future version of numpy, it will be understood as (type, (1,)) / '(1,)type'.\n",
            "  _np_qint32 = np.dtype([(\"qint32\", np.int32, 1)])\n",
            "/usr/local/lib/python3.6/dist-packages/tensorflow/python/framework/dtypes.py:535: FutureWarning: Passing (type, 1) or '1type' as a synonym of type is deprecated; in a future version of numpy, it will be understood as (type, (1,)) / '(1,)type'.\n",
            "  np_resource = np.dtype([(\"resource\", np.ubyte, 1)])\n"
          ],
          "name": "stderr"
        }
      ]
    },
    {
      "cell_type": "code",
      "metadata": {
        "id": "FJhhTVdiJxlD",
        "colab_type": "code",
        "colab": {}
      },
      "source": [
        "trainer = DetectionModelTrainer()\n",
        "trainer.setModelTypeAsYOLOv3()"
      ],
      "execution_count": null,
      "outputs": []
    },
    {
      "cell_type": "code",
      "metadata": {
        "id": "omMRI9TMJ3J7",
        "colab_type": "code",
        "colab": {
          "base_uri": "https://localhost:8080/",
          "height": 88
        },
        "outputId": "85a8a085-111e-4b5f-fa0e-7c9d03e498e0"
      },
      "source": [
        "# here we are having two classes [mask,no_mask]\n",
        "trainer.setDataDirectory(data_directory=\"dataset\") \n",
        "trainer.setTrainConfig(object_names_array=[\"mask\",\"no_mask\"],batch_size=4,num_experiments=15,train_from_pretrained_model=\"detection_model-ex-011--loss-0002.017.h5\")"
      ],
      "execution_count": null,
      "outputs": [
        {
          "output_type": "stream",
          "text": [
            "Generating anchor boxes for training images and annotation...\n",
            "Average IOU for 9 anchors: 0.77\n",
            "Anchor Boxes generated.\n",
            "Detection configuration saved in  dataset/json/detection_config.json\n"
          ],
          "name": "stdout"
        }
      ]
    },
    {
      "cell_type": "code",
      "metadata": {
        "id": "lvPn-haFKyDH",
        "colab_type": "code",
        "colab": {
          "base_uri": "https://localhost:8080/",
          "height": 837
        },
        "outputId": "094cf486-6818-4fa3-cef5-8756c0b4a960"
      },
      "source": [
        "trainer.trainModel()"
      ],
      "execution_count": null,
      "outputs": [
        {
          "output_type": "stream",
          "text": [
            "Training on: \t['mask', 'no_mask']\n",
            "Training with Batch Size:  4\n",
            "Number of Experiments:  15\n",
            "WARNING:tensorflow:From /usr/local/lib/python3.6/dist-packages/tensorflow/python/ops/resource_variable_ops.py:435: colocate_with (from tensorflow.python.framework.ops) is deprecated and will be removed in a future version.\n",
            "Instructions for updating:\n",
            "Colocations handled automatically by placer.\n",
            "WARNING:tensorflow:From /usr/local/lib/python3.6/dist-packages/imageai/Detection/Custom/yolo.py:24: to_float (from tensorflow.python.ops.math_ops) is deprecated and will be removed in a future version.\n",
            "Instructions for updating:\n",
            "Use tf.cast instead.\n",
            "Training with transfer learning from pretrained Model\n"
          ],
          "name": "stdout"
        },
        {
          "output_type": "stream",
          "text": [
            "/usr/local/lib/python3.6/dist-packages/keras/callbacks/callbacks.py:998: UserWarning: `epsilon` argument is deprecated and will be removed, use `min_delta` instead.\n",
            "  warnings.warn('`epsilon` argument is deprecated and '\n"
          ],
          "name": "stderr"
        },
        {
          "output_type": "stream",
          "text": [
            "WARNING:tensorflow:From /usr/local/lib/python3.6/dist-packages/tensorflow/python/ops/math_ops.py:3066: to_int32 (from tensorflow.python.ops.math_ops) is deprecated and will be removed in a future version.\n",
            "Instructions for updating:\n",
            "Use tf.cast instead.\n",
            "Epoch 1/15\n",
            "2120/2120 [==============================] - 2716s 1s/step - loss: 2.8593 - yolo_layer_1_loss: 0.3964 - yolo_layer_2_loss: 1.0591 - yolo_layer_3_loss: 1.4038 - val_loss: 15.0158 - val_yolo_layer_1_loss: 1.1077 - val_yolo_layer_2_loss: 2.7912 - val_yolo_layer_3_loss: 3.1586\n",
            "Epoch 2/15\n",
            "2120/2120 [==============================] - 2590s 1s/step - loss: 2.8080 - yolo_layer_1_loss: 0.3981 - yolo_layer_2_loss: 0.9741 - yolo_layer_3_loss: 1.4358 - val_loss: 5.3182 - val_yolo_layer_1_loss: 1.2403 - val_yolo_layer_2_loss: 2.7270 - val_yolo_layer_3_loss: 2.9202\n",
            "Epoch 3/15\n",
            "2120/2120 [==============================] - 2585s 1s/step - loss: 2.7577 - yolo_layer_1_loss: 0.3631 - yolo_layer_2_loss: 0.9983 - yolo_layer_3_loss: 1.3963 - val_loss: 2.7903 - val_yolo_layer_1_loss: 1.0638 - val_yolo_layer_2_loss: 2.4063 - val_yolo_layer_3_loss: 3.4028\n",
            "Epoch 4/15\n",
            "2120/2120 [==============================] - 2435s 1s/step - loss: 2.7354 - yolo_layer_1_loss: 0.3446 - yolo_layer_2_loss: 0.9779 - yolo_layer_3_loss: 1.4129 - val_loss: 1.6915 - val_yolo_layer_1_loss: 1.2887 - val_yolo_layer_2_loss: 2.6834 - val_yolo_layer_3_loss: 2.7815\n",
            "Epoch 5/15\n",
            "2120/2120 [==============================] - 2329s 1s/step - loss: 2.8060 - yolo_layer_1_loss: 0.4004 - yolo_layer_2_loss: 0.9695 - yolo_layer_3_loss: 1.4361 - val_loss: 4.9030 - val_yolo_layer_1_loss: 1.3391 - val_yolo_layer_2_loss: 2.8800 - val_yolo_layer_3_loss: 3.2349\n",
            "Epoch 6/15\n",
            "2120/2120 [==============================] - 2302s 1s/step - loss: 2.7201 - yolo_layer_1_loss: 0.3711 - yolo_layer_2_loss: 0.9315 - yolo_layer_3_loss: 1.4175 - val_loss: 2.7668 - val_yolo_layer_1_loss: 1.2957 - val_yolo_layer_2_loss: 2.9152 - val_yolo_layer_3_loss: 2.8506\n",
            "Epoch 7/15\n",
            "2120/2120 [==============================] - 2295s 1s/step - loss: 2.7018 - yolo_layer_1_loss: 0.3428 - yolo_layer_2_loss: 0.9598 - yolo_layer_3_loss: 1.3992 - val_loss: 9.9584 - val_yolo_layer_1_loss: 1.2348 - val_yolo_layer_2_loss: 2.8796 - val_yolo_layer_3_loss: 3.0452\n",
            "Epoch 8/15\n",
            "2120/2120 [==============================] - 2309s 1s/step - loss: 2.7241 - yolo_layer_1_loss: 0.3864 - yolo_layer_2_loss: 0.9346 - yolo_layer_3_loss: 1.4030 - val_loss: 9.2942 - val_yolo_layer_1_loss: 1.2345 - val_yolo_layer_2_loss: 2.6710 - val_yolo_layer_3_loss: 3.1858\n",
            "Epoch 9/15\n",
            "2120/2120 [==============================] - 2303s 1s/step - loss: 2.6495 - yolo_layer_1_loss: 0.3638 - yolo_layer_2_loss: 0.9240 - yolo_layer_3_loss: 1.3617 - val_loss: 11.3468 - val_yolo_layer_1_loss: 1.2298 - val_yolo_layer_2_loss: 2.8534 - val_yolo_layer_3_loss: 3.0197\n",
            "Epoch 10/15\n",
            "2120/2120 [==============================] - 2320s 1s/step - loss: 2.5636 - yolo_layer_1_loss: 0.3494 - yolo_layer_2_loss: 0.9016 - yolo_layer_3_loss: 1.3126 - val_loss: 5.1140 - val_yolo_layer_1_loss: 0.8677 - val_yolo_layer_2_loss: 2.3924 - val_yolo_layer_3_loss: 3.1244\n",
            "Epoch 11/15\n",
            "2120/2120 [==============================] - 2311s 1s/step - loss: 2.6436 - yolo_layer_1_loss: 0.3666 - yolo_layer_2_loss: 0.9416 - yolo_layer_3_loss: 1.3354 - val_loss: 5.2107 - val_yolo_layer_1_loss: 1.3390 - val_yolo_layer_2_loss: 2.6558 - val_yolo_layer_3_loss: 2.8537\n",
            "Epoch 12/15\n",
            "2120/2120 [==============================] - 2314s 1s/step - loss: 2.6525 - yolo_layer_1_loss: 0.3635 - yolo_layer_2_loss: 0.9159 - yolo_layer_3_loss: 1.3731 - val_loss: 5.9240 - val_yolo_layer_1_loss: 1.2263 - val_yolo_layer_2_loss: 2.8985 - val_yolo_layer_3_loss: 2.6983\n",
            "Epoch 13/15\n",
            "2120/2120 [==============================] - 2307s 1s/step - loss: 2.2237 - yolo_layer_1_loss: 0.3144 - yolo_layer_2_loss: 0.7577 - yolo_layer_3_loss: 1.1516 - val_loss: 5.3746 - val_yolo_layer_1_loss: 1.1035 - val_yolo_layer_2_loss: 2.9447 - val_yolo_layer_3_loss: 2.9331\n",
            "Epoch 14/15\n",
            "2120/2120 [==============================] - 2290s 1s/step - loss: 2.0943 - yolo_layer_1_loss: 0.2724 - yolo_layer_2_loss: 0.7266 - yolo_layer_3_loss: 1.0952 - val_loss: 2.7264 - val_yolo_layer_1_loss: 1.2865 - val_yolo_layer_2_loss: 2.6662 - val_yolo_layer_3_loss: 2.9266\n",
            "Epoch 15/15\n",
            "1264/2120 [================>.............] - ETA: 14:06 - loss: 2.0976 - yolo_layer_1_loss: 0.2849 - yolo_layer_2_loss: 0.6972 - yolo_layer_3_loss: 1.1155"
          ],
          "name": "stdout"
        }
      ]
    },
    {
      "cell_type": "code",
      "metadata": {
        "id": "TYlY6cvo23uq",
        "colab_type": "code",
        "colab": {}
      },
      "source": [
        "\n"
      ],
      "execution_count": null,
      "outputs": []
    }
  ]
}